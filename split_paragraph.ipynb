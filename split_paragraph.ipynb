{
 "cells": [
  {
   "cell_type": "code",
   "execution_count": 1,
   "metadata": {},
   "outputs": [
    {
     "name": "stdout",
     "output_type": "stream",
     "text": [
      "['_LazyCorpusLoader__args', '_LazyCorpusLoader__kwargs', '_LazyCorpusLoader__load', '_LazyCorpusLoader__name', '_LazyCorpusLoader__reader_cls', '__class__', '__delattr__', '__dict__', '__dir__', '__doc__', '__eq__', '__format__', '__ge__', '__getattr__', '__getattribute__', '__gt__', '__hash__', '__init__', '__init_subclass__', '__le__', '__lt__', '__module__', '__name__', '__ne__', '__new__', '__reduce__', '__reduce_ex__', '__repr__', '__setattr__', '__sizeof__', '__str__', '__subclasshook__', '__unicode__', '__weakref__', '_unload', 'subdir', 'unicode_repr']\n",
      "['austen-emma.txt', 'austen-persuasion.txt', 'austen-sense.txt', 'bible-kjv.txt', 'blake-poems.txt', 'bryant-stories.txt', 'burgess-busterbrown.txt', 'carroll-alice.txt', 'chesterton-ball.txt', 'chesterton-brown.txt', 'chesterton-thursday.txt', 'edgeworth-parents.txt', 'melville-moby_dick.txt', 'milton-paradise.txt', 'shakespeare-caesar.txt', 'shakespeare-hamlet.txt', 'shakespeare-macbeth.txt', 'whitman-leaves.txt']\n",
      "tokinizer trained, now splitting sentence and put into \n",
      "                                                sentence  label  rate  \\\n",
      "0      Bromwell High is a cartoon comedy. It ran at t...      1     9   \n",
      "1      Homelessness (or Houselessness as George Carli...      1     8   \n",
      "2      Brilliant over-acting by Lesley Ann Warren. Be...      1    10   \n",
      "3      This is easily the most underrated film inn th...      1     7   \n",
      "4      This is not the typical Mel Brooks film. It wa...      1     8   \n",
      "...                                                  ...    ...   ...   \n",
      "24995  Towards the end of the movie, I felt it was to...      0     4   \n",
      "24996  This is the kind of movie that my enemies cont...      0     3   \n",
      "24997  I saw 'Descent' last night at the Stockholm Fi...      0     3   \n",
      "24998  Some films that you pick up for a pound turn o...      0     1   \n",
      "24999  This is one of the dumbest films, I've ever se...      0     1   \n",
      "\n",
      "                                          split_sentence  \n",
      "0      [Bromwell High is a cartoon comedy., It ran at...  \n",
      "1      [Homelessness (or Houselessness as George Carl...  \n",
      "2      [Brilliant over-acting by Lesley Ann Warren., ...  \n",
      "3      [This is easily the most underrated film inn t...  \n",
      "4      [This is not the typical Mel Brooks film., It ...  \n",
      "...                                                  ...  \n",
      "24995  [Towards the end of the movie, I felt it was t...  \n",
      "24996  [This is the kind of movie that my enemies con...  \n",
      "24997  [I saw 'Descent' last night at the Stockholm F...  \n",
      "24998  [Some films that you pick up for a pound turn ...  \n",
      "24999  [This is one of the dumbest films, I've ever s...  \n",
      "\n",
      "[25000 rows x 4 columns]\n"
     ]
    }
   ],
   "source": [
    "import pandas as pd\n",
    "from nltk.corpus import gutenberg\n",
    "from pprint import pprint\n",
    "from nltk.tokenize.punkt import PunktSentenceTokenizer, PunktTrainer\n",
    "\n",
    "# This script requires NLTK gutenberg data, uncomment this to download if not yet downloaded\n",
    "# import nltk\n",
    "# nltk.download('gutenberg')\n",
    "\n",
    "print(dir(gutenberg))\n",
    "print(gutenberg.fileids())\n",
    "\n",
    "text = \"\"\n",
    "for file_id in gutenberg.fileids():\n",
    "    text += gutenberg.raw(file_id)\n",
    "\n",
    "trainer = PunktTrainer()\n",
    "trainer.INCLUDE_ALL_COLLOCS = True\n",
    "trainer.train(text)\n",
    "\n",
    "tokenizer = PunktSentenceTokenizer(trainer.get_params())\n",
    "\n",
    "# Section to preview the tokenizer\n",
    "\"\"\"\n",
    "# Test the tokenizer on a piece of text\n",
    "sentences = \"Mr. James told me Dr. Brown is not available today. I will try tomorrow.\"\n",
    "\n",
    "print (tokenizer.tokenize(sentences))\n",
    "# ['Mr. James told me Dr.', 'Brown is not available today.', 'I will try tomorrow.']\n",
    "\n",
    "# View the learned abbreviations\n",
    "print\n",
    "tokenizer._params.abbrev_types\n",
    "# set([...])\n",
    "\n",
    "# Here's how to debug every split decision\n",
    "for decision in tokenizer.debug_decisions(sentences):\n",
    "    pprint(decision)\n",
    "    print\n",
    "    '=' * 30\n",
    "\n",
    "print\n",
    "len(text)  # 11793318\n",
    "\"\"\"\n",
    "\n",
    "df = pd.read_excel('IMDb_train_new.xlsx')\n",
    "print('tokinizer trained, now splitting sentence and put into ')\n",
    "df['split_sentence'] = df['sentence'].apply(lambda x : tokenizer.tokenize(x))\n",
    "print(df)\n",
    "df.to_pickle(\"./IMDb_train_new.pkl\")"
   ]
  },
  {
   "cell_type": "code",
   "execution_count": 7,
   "metadata": {},
   "outputs": [
    {
     "name": "stdout",
     "output_type": "stream",
     "text": [
      "tokinizer trained, now splitting sentence and put into \n",
      "                                                sentence  label  rate  \\\n",
      "0      I went and saw this movie last night after bei...      1    10   \n",
      "1      Actor turned director Bill Paxton follows up h...      1     7   \n",
      "2      As a recreational golfer with some knowledge o...      1     9   \n",
      "3      I saw this film in a sneak preview, and it is ...      1     8   \n",
      "4      Bill Paxton has taken the true story of the 19...      1     8   \n",
      "...                                                  ...    ...   ...   \n",
      "24995  I occasionally let my kids watch this garbage ...      0     1   \n",
      "24996  When all we have anymore is pretty much realit...      0     1   \n",
      "24997  The basic genre is a thriller intercut with an...      0     3   \n",
      "24998  Four things intrigued me as to this film - fir...      0     3   \n",
      "24999  David Bryce's comments nearby are exceptionall...      0     4   \n",
      "\n",
      "                                          split_sentence  \n",
      "0      [I went and saw this movie last night after be...  \n",
      "1      [Actor turned director Bill Paxton follows up ...  \n",
      "2      [As a recreational golfer with some knowledge ...  \n",
      "3      [I saw this film in a sneak preview, and it is...  \n",
      "4      [Bill Paxton has taken the true story of the 1...  \n",
      "...                                                  ...  \n",
      "24995  [I occasionally let my kids watch this garbage...  \n",
      "24996  [When all we have anymore is pretty much reali...  \n",
      "24997  [The basic genre is a thriller intercut with a...  \n",
      "24998  [Four things intrigued me as to this film - fi...  \n",
      "24999  [David Bryce's comments nearby are exceptional...  \n",
      "\n",
      "[25000 rows x 4 columns]\n"
     ]
    }
   ],
   "source": [
    "df = pd.read_excel('IMDb_test_new.xlsx')\n",
    "df['split_sentence'] = df['sentence'].apply(lambda x : tokenizer.tokenize(x))\n",
    "#\n",
    "print(df)\n",
    "df.to_pickle(\"./IMDb_test_new.pkl\")"
   ]
  },
  {
   "cell_type": "code",
   "execution_count": null,
   "metadata": {},
   "outputs": [],
   "source": []
  }
 ],
 "metadata": {
  "kernelspec": {
   "display_name": "Python 3",
   "language": "python",
   "name": "python3"
  },
  "language_info": {
   "codemirror_mode": {
    "name": "ipython",
    "version": 3
   },
   "file_extension": ".py",
   "mimetype": "text/x-python",
   "name": "python",
   "nbconvert_exporter": "python",
   "pygments_lexer": "ipython3",
   "version": "3.7.5"
  }
 },
 "nbformat": 4,
 "nbformat_minor": 1
}
